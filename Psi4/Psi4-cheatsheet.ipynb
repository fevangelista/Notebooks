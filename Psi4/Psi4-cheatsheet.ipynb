{
 "cells": [
  {
   "cell_type": "markdown",
   "id": "ea5703ea",
   "metadata": {},
   "source": [
    "# A Psi4 cheat sheet\n",
    "\n",
    "For other examples see: [Andrea Snow's psi4 cheat sheet](https://adreasnow.com/Cheat%20Sheets%20and%20Play/Cheat%20Sheets/Psi4/)\n",
    "\n",
    "---\n",
    "\n",
    "## Input\n",
    "### Importing `psi4` and `fortecubeview`\n",
    "\n",
    "`fortecubeview` provides several helpful functionality missing from psi4."
   ]
  },
  {
   "cell_type": "code",
   "execution_count": null,
   "id": "5f7a36cc",
   "metadata": {},
   "outputs": [],
   "source": [
    "import psi4\n",
    "import fortecubeview"
   ]
  },
  {
   "cell_type": "markdown",
   "id": "6cf34394",
   "metadata": {},
   "source": [
    "### Defining a molecule using Cartesian coordinates (units of Å)"
   ]
  },
  {
   "cell_type": "code",
   "execution_count": null,
   "id": "a920e393",
   "metadata": {},
   "outputs": [],
   "source": [
    "mol = psi4.geometry(\"\"\"\n",
    "H 0.0 0.0 0.0\n",
    "H 0.0 0.0 0.75\n",
    "\"\"\")"
   ]
  },
  {
   "cell_type": "markdown",
   "id": "2d41be3f",
   "metadata": {},
   "source": [
    "### Defining a molecule using Z-matrix coordinates (units of Å)"
   ]
  },
  {
   "cell_type": "code",
   "execution_count": null,
   "id": "47dd9da7",
   "metadata": {},
   "outputs": [],
   "source": [
    "mol = psi4.geometry(\"\"\"\n",
    "H\n",
    "H 1 0.75\n",
    "\"\"\")"
   ]
  },
  {
   "cell_type": "markdown",
   "id": "561d5b5d",
   "metadata": {},
   "source": [
    "### Get the geometry from PubChem\n",
    "\n",
    "Always check the geometry before using it!"
   ]
  },
  {
   "cell_type": "code",
   "execution_count": null,
   "id": "c840da2e",
   "metadata": {},
   "outputs": [],
   "source": [
    "methanol = psi4.geometry(\"\"\"\n",
    "pubchem:methanol\"\"\")\n",
    "\n",
    "fortecubeview.geom(molecule=methanol)"
   ]
  },
  {
   "cell_type": "markdown",
   "id": "ac6599dd",
   "metadata": {},
   "source": [
    "### Getting the coordinates from a molecule object"
   ]
  },
  {
   "cell_type": "code",
   "execution_count": null,
   "id": "3ba2bbb5",
   "metadata": {},
   "outputs": [],
   "source": [
    "print(mol.to_string(dtype='xyz'))"
   ]
  },
  {
   "cell_type": "markdown",
   "id": "59158a87",
   "metadata": {},
   "source": [
    "## Computations"
   ]
  },
  {
   "cell_type": "markdown",
   "id": "eb39eb3a",
   "metadata": {},
   "source": [
    "### Setting the output file"
   ]
  },
  {
   "cell_type": "code",
   "execution_count": null,
   "id": "4115d209",
   "metadata": {},
   "outputs": [],
   "source": [
    "psi4.set_output_file('output.txt',False)"
   ]
  },
  {
   "cell_type": "markdown",
   "id": "f1c80389",
   "metadata": {},
   "source": [
    "### Hartree–Fock energy (closed shell)\n",
    "The string `SCF/cc-pVDZ` specifies a self-consistent-field computation using the cc-pVDZ basis set"
   ]
  },
  {
   "cell_type": "code",
   "execution_count": null,
   "id": "343bef89",
   "metadata": {},
   "outputs": [],
   "source": [
    "psi4.energy('SCF/cc-pVDZ')"
   ]
  },
  {
   "cell_type": "markdown",
   "id": "ed8748cc",
   "metadata": {},
   "source": [
    "### Useful SCF options\n",
    "- `MAXITER`: maximum number of iterations\n",
    "- `E_CONVERGENCE`: energy convergence criterion\n",
    "- `D_CONVERGENCE`: density matrix convergence criterion\n",
    "- `REFERENCE`: any of `RHF`, `ROHF`, `UHF`\n",
    "- `GUESS`: orbital guess\n",
    "- `SCF_TYPE`: `DF` (default), `DIRECT`, `PK`\n",
    "\n",
    "Note how this energy differs from the one above (due to the use of exact two-electron integrals instead of density fitted ones)"
   ]
  },
  {
   "cell_type": "code",
   "execution_count": null,
   "id": "332384ff",
   "metadata": {},
   "outputs": [],
   "source": [
    "psi4.set_options({'E_CONVERGENCE' : 12,\n",
    "                  'D_CONVERGENCE' : 6,\n",
    "                  'SCF_TYPE' : 'PK',\n",
    "                  'GUESS' : 'SAD'\n",
    "                 })\n",
    "\n",
    "psi4.energy('SCF/cc-pVDZ')"
   ]
  },
  {
   "cell_type": "markdown",
   "id": "e9470887",
   "metadata": {},
   "source": [
    "### Showing the MO coefficients\n",
    "Set the `PRINT_MOS` option to `True` to print the MO coefficient matrix at the end of a computation."
   ]
  },
  {
   "cell_type": "code",
   "execution_count": null,
   "id": "28b2950c",
   "metadata": {},
   "outputs": [],
   "source": [
    "mol = psi4.geometry(\"\"\"\n",
    "H\n",
    "H 1 0.75\n",
    "\"\"\")\n",
    "\n",
    "psi4.set_options({'PRINT_MOS' : True})\n",
    "psi4.energy('SCF/cc-pVDZ')\n",
    "!cat output.txt | tail -48 | head -36"
   ]
  },
  {
   "cell_type": "markdown",
   "id": "ac12b283",
   "metadata": {},
   "source": [
    "### Unrestricted HF computation\n",
    "\n",
    "Set the keyword `REFERENCE` to `UHF` "
   ]
  },
  {
   "cell_type": "code",
   "execution_count": null,
   "id": "c3ea7922",
   "metadata": {},
   "outputs": [],
   "source": [
    "# O2 triplet \n",
    "# (charge = 0) (multiplicity = 3)\n",
    "mol = psi4.geometry(\"\"\"\n",
    "0 3 \n",
    "O\n",
    "O 1 1.208\n",
    "\"\"\")\n",
    "\n",
    "psi4.set_output_file('o2trip_uhf_cc-pvdz.txt',False)\n",
    "psi4.set_options({'REFERENCE' : 'UHF'})\n",
    "psi4.energy('hf/cc-pVDZ')"
   ]
  },
  {
   "cell_type": "markdown",
   "id": "f71cbd74",
   "metadata": {},
   "source": [
    "### Restricted open-shell HF computation\n",
    "\n",
    "Set the keyword `REFERENCE` to `ROHF` "
   ]
  },
  {
   "cell_type": "code",
   "execution_count": null,
   "id": "66a22074",
   "metadata": {},
   "outputs": [],
   "source": [
    "# O2 triplet \n",
    "# (charge = 0) (multiplicity = 3)\n",
    "mol = psi4.geometry(\"\"\"\n",
    "0 3 \n",
    "O\n",
    "O 1 1.208\n",
    "\"\"\")\n",
    "\n",
    "psi4.set_output_file('o2trip_rohf_cc-pvdz.txt',False)\n",
    "psi4.set_options({'REFERENCE' : 'ROHF'})\n",
    "psi4.energy('hf/cc-pVDZ')"
   ]
  },
  {
   "cell_type": "markdown",
   "id": "66d174ed",
   "metadata": {},
   "source": [
    "### Plotting orbitals\n",
    "\n",
    "Best practices\n",
    "- save the orbitals to a separate directory (`!mkdir oh_mos`, `'CUBEPROP_FILEPATH' : 'oh_mos'`)\n",
    "- cube files can take a lot of hard drive space. Specify which orbitals to generate (`'CUBEPROP_ORBITALS' : [1,2,...,-1,-2,...]`). Psi4 uses a `-` to indicate beta orbitals"
   ]
  },
  {
   "cell_type": "code",
   "execution_count": null,
   "id": "04ce95b5",
   "metadata": {},
   "outputs": [],
   "source": [
    "# Part I: Make cube files\n",
    "\n",
    "# doublet OH UHF orbitals\n",
    "mol = psi4.geometry(\"\"\"\n",
    "0 2\n",
    "H\n",
    "O 1 1.3\n",
    "\"\"\")\n",
    "\n",
    "# create the folder oh_mos/\n",
    "!mkdir oh_mos\n",
    "\n",
    "psi4.set_options({'REFERENCE' : 'UHF',\n",
    "                  'CUBEPROP_FILEPATH' : 'oh_mos',\n",
    "                  'CUBEPROP_TASKS' : ['ORBITALS','DENSITY'],\n",
    "                  'CUBEPROP_ORBITALS' : [1,2,3,4,5,6,7,8,9,-1,-2,-3,-4,-5,-6,-7,-8,-9]})\n",
    "\n",
    "# run computation\n",
    "E, wfn = psi4.energy('hf/cc-pVDZ', return_wfn=True)\n",
    "\n",
    "# generate cube files\n",
    "psi4.cubeprop(wfn)"
   ]
  },
  {
   "cell_type": "code",
   "execution_count": null,
   "id": "0bc6572c",
   "metadata": {},
   "outputs": [],
   "source": [
    "# Part II: Visualize cube files in the folder oh_mos/ with fortecubeview (alternatively use vmd and vmd_cube)\n",
    "\n",
    "import fortecubeview\n",
    "fortecubeview.plot('oh_mos')"
   ]
  },
  {
   "cell_type": "markdown",
   "id": "15c84d61",
   "metadata": {},
   "source": [
    "### HF geometry optimization\n",
    "Notice that the `mol` object is update with the new geometry"
   ]
  },
  {
   "cell_type": "code",
   "execution_count": null,
   "id": "3e361811",
   "metadata": {},
   "outputs": [],
   "source": [
    "mol = psi4.geometry(\"\"\"\n",
    "H 0.0 0.0 0.0\n",
    "H 0.0 0.0 0.75\n",
    "\"\"\")\n",
    "\n",
    "psi4.optimize('SCF/cc-pVDZ')\n",
    "print(mol.to_string(dtype='xyz'))"
   ]
  },
  {
   "cell_type": "markdown",
   "id": "3f6e523f",
   "metadata": {},
   "source": [
    "### HF frequency calculation\n",
    "\n",
    "**You MUST optimize the geometry before running frequencies at the same level of theory**"
   ]
  },
  {
   "cell_type": "code",
   "execution_count": null,
   "id": "b4e3646c",
   "metadata": {},
   "outputs": [],
   "source": [
    "mol = psi4.geometry(\"\"\"\n",
    "H 0.0 0.0 0.0\n",
    "H 0.0 0.0 0.75\n",
    "\"\"\")\n",
    "\n",
    "psi4.set_output_file('h2_freq.txt',False)\n",
    "\n",
    "# run an optimization\n",
    "psi4.optimize('SCF/cc-pVDZ')\n",
    "print(mol.to_string(dtype='xyz'))\n",
    "\n",
    "# run a frequency computation\n",
    "psi4.frequencies('SCF/cc-pVDZ')\n",
    "\n",
    "!cat h2_freq.txt | tail -95 | head -33"
   ]
  },
  {
   "cell_type": "markdown",
   "id": "adf6c576",
   "metadata": {},
   "source": [
    "### Visualize vibrational modes\n",
    "\n",
    "Add the options to write a normal mode file\n",
    "```python\n",
    "psi4.set_options({'NORMAL_MODES_WRITE' : True,\n",
    "                  'WRITER_FILE_LABEL' : 'normal_modes'})\n",
    "```\n",
    "\n",
    "The line\n",
    "```python\n",
    "normalmode_file = psi4.core.get_writer_file_prefix(mol.name()) + \".molden_normal_modes\"\n",
    "```\n",
    "automatically finds the name of the normal mode file"
   ]
  },
  {
   "cell_type": "code",
   "execution_count": null,
   "id": "0559d02d",
   "metadata": {},
   "outputs": [],
   "source": [
    "# Part I: Compute the normal modes and write a normal mode file\n",
    "\n",
    "mol = psi4.geometry(\"\"\"\n",
    "O\n",
    "H 1 0.9\n",
    "H 1 0.9 2 104.5\n",
    "\"\"\")\n",
    "\n",
    "psi4.set_output_file('h2o_freq.txt',False)\n",
    "\n",
    "psi4.set_options({'NORMAL_MODES_WRITE' : True,\n",
    "                  'WRITER_FILE_LABEL' : 'normal_modes'})\n",
    "\n",
    "psi4.optimize('SCF/cc-pVDZ')\n",
    "psi4.frequencies('SCF/cc-pVDZ')\n",
    "\n",
    "# this is a hack\n",
    "normalmode_file = psi4.core.get_writer_file_prefix(mol.name()) + \".molden_normal_modes\""
   ]
  },
  {
   "cell_type": "code",
   "execution_count": null,
   "id": "abca551a",
   "metadata": {},
   "outputs": [],
   "source": [
    "# Part II: Visualize normal mode file with fortecubeview (alternatively use molden or a compatible software)\n",
    "\n",
    "fortecubeview.vib(normalmode_file)"
   ]
  }
 ],
 "metadata": {
  "kernelspec": {
   "display_name": "Python 3.9 (forte)",
   "language": "python",
   "name": "forte"
  },
  "language_info": {
   "codemirror_mode": {
    "name": "ipython",
    "version": 3
   },
   "file_extension": ".py",
   "mimetype": "text/x-python",
   "name": "python",
   "nbconvert_exporter": "python",
   "pygments_lexer": "ipython3",
   "version": "3.9.9"
  }
 },
 "nbformat": 4,
 "nbformat_minor": 5
}
